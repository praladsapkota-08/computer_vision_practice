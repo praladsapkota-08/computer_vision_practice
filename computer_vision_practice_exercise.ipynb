{
 "cells": [
  {
   "cell_type": "code",
   "execution_count": 1,
   "id": "b1bb79ed-ddd9-443a-8592-dffe567578a8",
   "metadata": {},
   "outputs": [],
   "source": [
    "import cv2\n",
    "import os"
   ]
  },
  {
   "cell_type": "code",
   "execution_count": 7,
   "id": "fe68b5bd-f02c-422e-83f3-17fb6c9cfab6",
   "metadata": {},
   "outputs": [
    {
     "ename": "SyntaxError",
     "evalue": "invalid syntax (59588492.py, line 22)",
     "output_type": "error",
     "traceback": [
      "  \u001b[36mCell\u001b[39m\u001b[36m \u001b[39m\u001b[32mIn[7]\u001b[39m\u001b[32m, line 22\u001b[39m\n\u001b[31m    \u001b[39m\u001b[31mreturn cropped image\u001b[39m\n                   ^\n\u001b[31mSyntaxError\u001b[39m\u001b[31m:\u001b[39m invalid syntax\n"
     ]
    }
   ],
   "source": [
    "transform_choice = int(input('choose number:\\n1 --> Resize\\n2 --> Crop\\n3 --> Rotate\\n4 --> Flip\\n5 --> Exit\\n'))\n",
    "\n",
    "def image_resize(image):\n",
    "    width = int(input('Give the width:\\n'))\n",
    "    height = int(input('Give the height:\\n'))\n",
    "    if image is not None:\n",
    "        resized_image = cv2.resize(image, (width, height))\n",
    "        return resized_image\n",
    "    else:\n",
    "        print('Image not found')\n",
    "        return\n",
    "\n",
    "def image_crop(image):\n",
    "    start_width = int(input('Give the start width:\\n'))\n",
    "    end_width = int(input('Give the end width:\\n'))\n",
    "    start_height = int(input('Give the start height:\\n'))\n",
    "    end_height = int(input('Give the end height:\\n'))\n",
    "\n",
    "    if image is not None:\n",
    "        cropped_image = image[start_width: end_width, start_height: end_height]\n",
    "        cropped('Image cropped successfully')\n",
    "        return cropped image\n",
    "    else:\n",
    "        print('Image not found')\n",
    "        return\n",
    "\n",
    "def rotate_image(image):\n",
    "    h, w = image.shape[:2]\n",
    "    angle = int(input('Give the angle:\\n'))\n",
    "    scale_factor = float(input('Give the scale factor:\\n'))\n",
    "    center = (w//2, h//2)\n",
    "\n",
    "    if image is not None:\n",
    "        M = cv2.getRotationMatrix2D(center, angle, scale_factor)\n",
    "        rotated_image = cv2.warpAffine(image, M, (w, h))\n",
    "        return rotated_image\n",
    "    else:\n",
    "        print('Image not found')\n",
    "        return\n",
    "\n",
    "def flip_image(image):\n",
    "    flip_type = int(input('1 --> horizontal flip\\n 0 --> vertical flip\\n-1 --> both horizontal and vertical flip'))\n",
    "    if image is not None:\n",
    "        fliped_image = cv2.flip(image, flip_type)\n",
    "        print('Image fliped')"
   ]
  },
  {
   "cell_type": "code",
   "execution_count": 6,
   "id": "93cbc57b-d42f-45f4-ba7e-e8ed1b242421",
   "metadata": {},
   "outputs": [
    {
     "name": "stdin",
     "output_type": "stream",
     "text": [
      "Do you have the image in current directory(yes/no) no\n",
      "Enter the absolute path( C:/Users/Pralad/Pictures/photo.png ) media/python_image.png\n"
     ]
    },
    {
     "name": "stdout",
     "output_type": "stream",
     "text": [
      "Image found\n",
      "Your image path has been set to: media/python_image.png\n",
      "Image loaded successfully\n"
     ]
    },
    {
     "name": "stdin",
     "output_type": "stream",
     "text": [
      "For image show --> show || for image save --> save save\n",
      "Enter the name of image to be saved in .png (eg: output_1.png) media/output_image_1.png\n"
     ]
    },
    {
     "name": "stdout",
     "output_type": "stream",
     "text": [
      "media/output_image_1.png image saved successfully\n"
     ]
    }
   ],
   "source": [
    "\n",
    "# print(f'You are in this directory: {cwd}')\n",
    "file_path_choice = input('Do you have the image in current directory(yes/no)')\n",
    "def file_choice(file_path_choice):\n",
    "    cwd = os.getcwd()\n",
    "    if file_path_choice.lower() == 'yes':\n",
    "        file_name = input('Enter image name in .png format')\n",
    "        file_path = os.path.join(cwd, file_name)\n",
    "        if os.path.exists(file_path):\n",
    "            print('Image found')\n",
    "            print('Your image path has been set to:', file_path)\n",
    "        else:\n",
    "            print('Image not found')\n",
    "    else:\n",
    "        file_path = input('Enter the absolute path( C:/Users/Pralad/Pictures/photo.png )')\n",
    "        if os.path.exists(file_path):\n",
    "            print('Image found')\n",
    "            print('Your image path has been set to:', file_path)\n",
    "        else:\n",
    "            print('Image not found')\n",
    "            return\n",
    "    return file_path\n",
    "\n",
    "def image_load(image_path):\n",
    "    image_load = cv2.imread(image_path)\n",
    "    if image_load is not None:\n",
    "        print('Image loaded successfully')\n",
    "        return image_load\n",
    "    else:\n",
    "        print('Image Not Found')\n",
    "        return\n",
    "\n",
    "def image_show(image):\n",
    "    image_show = cv2.imshow('Image is displaying', load_image)\n",
    "    cv2.waitKey(0)\n",
    "    cv2.destroyAllWindows()\n",
    "\n",
    "def image_save(image):\n",
    "    output_image = input('Enter the name of image to be saved in .png (eg: output_1.png)')\n",
    "    succes = cv2.imwrite(output_image , load_image)\n",
    "    if succes:\n",
    "        print(f'{output_image} image saved successfully')\n",
    "    else:\n",
    "        print('Image not saved')\n",
    "        return\n",
    "\n",
    "        \n",
    "image_path = file_choice(file_path_choice)\n",
    "load_image = image_load(image_path)\n",
    "display_choice = input(\"Do you want to display the image? (yes/no): \")\n",
    "save_choice = input(\"Do you want to save the image? (yes/no): \")\n",
    "\n",
    "if display_choice.lower() == 'yes':\n",
    "    image_show(load_image)\n",
    "if save_choice.lower() == 'yes':\n",
    "    image_save(load_image) "
   ]
  },
  {
   "cell_type": "code",
   "execution_count": null,
   "id": "37847613-dd11-47ab-9bbd-fa08fa610cb7",
   "metadata": {},
   "outputs": [],
   "source": [
    "if transform_choice == 1:\n",
    "    pass"
   ]
  }
 ],
 "metadata": {
  "kernelspec": {
   "display_name": "Python (dl-env)",
   "language": "python",
   "name": "dl-env"
  },
  "language_info": {
   "codemirror_mode": {
    "name": "ipython",
    "version": 3
   },
   "file_extension": ".py",
   "mimetype": "text/x-python",
   "name": "python",
   "nbconvert_exporter": "python",
   "pygments_lexer": "ipython3",
   "version": "3.11.13"
  }
 },
 "nbformat": 4,
 "nbformat_minor": 5
}
