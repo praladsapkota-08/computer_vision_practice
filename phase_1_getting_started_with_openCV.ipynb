{
 "cells": [
  {
   "cell_type": "code",
   "execution_count": 1,
   "id": "94627514-facb-48ff-8021-d07e5c17c5dc",
   "metadata": {},
   "outputs": [],
   "source": [
    "import cv2"
   ]
  },
  {
   "cell_type": "code",
   "execution_count": 2,
   "id": "edec5ce0-9e91-44c6-bce6-e0ac89b79b7a",
   "metadata": {},
   "outputs": [
    {
     "name": "stdout",
     "output_type": "stream",
     "text": [
      "Image loaded successfully\n"
     ]
    }
   ],
   "source": [
    "image = cv2.imread('python_image.png')\n",
    "\n",
    "if image is None:\n",
    "    print('Error: Image Not Found')\n",
    "else:\n",
    "    print('Image loaded successfully')"
   ]
  },
  {
   "cell_type": "code",
   "execution_count": 3,
   "id": "5f9b745b-1602-4105-8d11-f84cab271c1e",
   "metadata": {},
   "outputs": [],
   "source": [
    "if image is not None:\n",
    "    cv2.imshow('Image is displaying', image)\n",
    "    cv2.waitKey(0)\n",
    "    cv2.destroyAllWindows()\n",
    "else:\n",
    "    print('Couldnt load the image')"
   ]
  },
  {
   "cell_type": "code",
   "execution_count": 4,
   "id": "c91d7e46-9cf3-4a68-8288-eb48ce7cd038",
   "metadata": {},
   "outputs": [
    {
     "name": "stdout",
     "output_type": "stream",
     "text": [
      "Image saved successfully\n"
     ]
    }
   ],
   "source": [
    "if image is not None:\n",
    "    success = cv2.imwrite('output_python.png', image)\n",
    "    if success:\n",
    "        print('Image saved successfully')\n",
    "    else:\n",
    "        print('Image not saved')\n",
    "else:\n",
    "    print('Error: Couldnt load image')"
   ]
  },
  {
   "cell_type": "code",
   "execution_count": 5,
   "id": "44c71728-d6a9-4a7f-8bc5-40c56a5aa125",
   "metadata": {},
   "outputs": [
    {
     "name": "stdout",
     "output_type": "stream",
     "text": [
      "Image loaded: \n",
      "Height 600\n",
      "Width 600\n",
      "Channels 3\n"
     ]
    }
   ],
   "source": [
    "if image is not None:\n",
    "    h, w, c = image.shape\n",
    "    print(f'Image loaded: \\nHeight {h}\\nWidth {w}\\nChannels {c}')\n",
    "else:\n",
    "    print('Error: Couldnt load image')"
   ]
  },
  {
   "cell_type": "code",
   "execution_count": 6,
   "id": "1f179f91-a369-4d3d-92b3-3e8fefd89ad6",
   "metadata": {},
   "outputs": [],
   "source": [
    "if image is not None:\n",
    "    gray = cv2.cvtColor(image, cv2.COLOR_BGR2GRAY)\n",
    "    cv2.imshow('Gray image', gray)\n",
    "    cv2.waitKey(0)\n",
    "    cv2.destroyAllWindows()\n",
    "else:\n",
    "    print('Error: Image couldnt load')"
   ]
  },
  {
   "cell_type": "code",
   "execution_count": null,
   "id": "d5d30fc7-9921-42a2-a0ea-7474dc967754",
   "metadata": {},
   "outputs": [],
   "source": [
    "`"
   ]
  }
 ],
 "metadata": {
  "kernelspec": {
   "display_name": "Python (dl-env)",
   "language": "python",
   "name": "dl-env"
  },
  "language_info": {
   "codemirror_mode": {
    "name": "ipython",
    "version": 3
   },
   "file_extension": ".py",
   "mimetype": "text/x-python",
   "name": "python",
   "nbconvert_exporter": "python",
   "pygments_lexer": "ipython3",
   "version": "3.11.13"
  }
 },
 "nbformat": 4,
 "nbformat_minor": 5
}
