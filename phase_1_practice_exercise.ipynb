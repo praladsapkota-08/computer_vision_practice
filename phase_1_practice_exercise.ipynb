{
 "cells": [
  {
   "cell_type": "code",
   "execution_count": 1,
   "id": "b1bb79ed-ddd9-443a-8592-dffe567578a8",
   "metadata": {},
   "outputs": [],
   "source": [
    "import cv2\n",
    "import os"
   ]
  },
  {
   "cell_type": "code",
   "execution_count": 7,
   "id": "93cbc57b-d42f-45f4-ba7e-e8ed1b242421",
   "metadata": {},
   "outputs": [
    {
     "name": "stdin",
     "output_type": "stream",
     "text": [
      "Do you have the image in current directory(yes/no) no\n",
      "Enter the absolute path( C:/Users/Pralad/Pictures/photo.png ) media/python_image.png\n"
     ]
    },
    {
     "name": "stdout",
     "output_type": "stream",
     "text": [
      "Image found\n",
      "Your image path has been set to: media/python_image.png\n",
      "Image loaded successfully\n"
     ]
    },
    {
     "name": "stdin",
     "output_type": "stream",
     "text": [
      "Enter the name of image to be saved output_1.png\n"
     ]
    },
    {
     "name": "stdout",
     "output_type": "stream",
     "text": [
      "output_1.png image saved successfully\n"
     ]
    }
   ],
   "source": [
    "\n",
    "# print(f'You are in this directory: {cwd}')\n",
    "file_path_choice = input('Do you have the image in current directory(yes/no)')\n",
    "def file_choice(file_path_choice):\n",
    "    cwd = os.getcwd()\n",
    "    if file_path_choice.lower() == 'yes':\n",
    "        file_name = input('Enter image name in .png format')\n",
    "        file_path = os.path.join(cwd, file_name)\n",
    "        if os.path.exists(file_path):\n",
    "            print('Image found')\n",
    "            print('Your image path has been set to:', file_path)\n",
    "        else:\n",
    "            print('Image not found')\n",
    "    else:\n",
    "        file_path = input('Enter the absolute path( C:/Users/Pralad/Pictures/photo.png )')\n",
    "        if os.path.exists(file_path):\n",
    "            print('Image found')\n",
    "            print('Your image path has been set to:', file_path)\n",
    "        else:\n",
    "            print('Image not found')\n",
    "    return file_path\n",
    "\n",
    "def image_load(image_path):\n",
    "    image_load = cv2.imread(image_path)\n",
    "    if image_load is not None:\n",
    "        print('Image loaded successfully')\n",
    "        return image_load\n",
    "    else:\n",
    "        print('Image Not Found')\n",
    "\n",
    "def image_show(image_load):\n",
    "    image_show = cv2.imshow('Image is displaying', image_load)\n",
    "    cv2.waitKey(0)\n",
    "    cv2.destroyAllWindows()\n",
    "\n",
    "def image_save(image_load):\n",
    "    output_image = input('Enter the name of image to be saved in .png (eg: output_1.png)')\n",
    "    succes = cv2.imwrite(output_image , image_load)\n",
    "    if succes:\n",
    "        print(f'{output_image} image saved successfully')\n",
    "    else:\n",
    "        print('Image not saved')\n",
    "\n",
    "        \n",
    "image_path = file_choice(file_path_choice)\n",
    "load_image = image_load(image_path)\n",
    "image_show(load_image)\n",
    "image_save(load_image)"
   ]
  },
  {
   "cell_type": "code",
   "execution_count": null,
   "id": "fe68b5bd-f02c-422e-83f3-17fb6c9cfab6",
   "metadata": {},
   "outputs": [],
   "source": []
  }
 ],
 "metadata": {
  "kernelspec": {
   "display_name": "Python (dl-env)",
   "language": "python",
   "name": "dl-env"
  },
  "language_info": {
   "codemirror_mode": {
    "name": "ipython",
    "version": 3
   },
   "file_extension": ".py",
   "mimetype": "text/x-python",
   "name": "python",
   "nbconvert_exporter": "python",
   "pygments_lexer": "ipython3",
   "version": "3.11.13"
  }
 },
 "nbformat": 4,
 "nbformat_minor": 5
}
