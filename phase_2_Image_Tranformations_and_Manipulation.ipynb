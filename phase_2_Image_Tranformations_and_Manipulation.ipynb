{
 "cells": [
  {
   "cell_type": "code",
   "execution_count": 1,
   "id": "8d9696b6-a87a-492f-b717-b3a7ebe03f9a",
   "metadata": {},
   "outputs": [],
   "source": [
    "import cv2"
   ]
  },
  {
   "cell_type": "code",
   "execution_count": 2,
   "id": "cc92d48a-49f7-471b-902a-f39fde178b92",
   "metadata": {},
   "outputs": [
    {
     "name": "stdout",
     "output_type": "stream",
     "text": [
      "Image found\n"
     ]
    }
   ],
   "source": [
    "# resized = cv2.resize(src, dsize, fx, fy, interpolation)\n",
    "image = cv2.imread('media/python_image.png')\n",
    "\n",
    "if image is None:\n",
    "    print('Image not found')\n",
    "else:\n",
    "    print('Image found')\n",
    "    resized = cv2.resize(image, (300, 300))\n",
    "    cv2.imshow('Original image', image)\n",
    "    cv2.imshow('Resized image', resized)\n",
    "    \n",
    "    cv2.imwrite('media/resized_image.png', resized)\n",
    "    \n",
    "    cv2.waitKey(0)\n",
    "    cv2.destroyAllWindows()"
   ]
  },
  {
   "cell_type": "code",
   "execution_count": 3,
   "id": "63166449-0ffc-4ff7-868b-75907bdffa5f",
   "metadata": {},
   "outputs": [],
   "source": [
    "# cropped_image = image[startY:endY , startX:endY]\n",
    "\n",
    "if image is not None:\n",
    "    cropped = image[100:200, 50:150]\n",
    "    \n",
    "    cv2.imshow('Cropped Image', cropped)\n",
    "    cv2.imwrite('media/cropped_image.png', cropped)\n",
    "\n",
    "    cv2.waitKey(0)\n",
    "    cv2.destroyAllWindows()"
   ]
  },
  {
   "cell_type": "code",
   "execution_count": 4,
   "id": "fef68274-4031-4083-a7e8-7c1ced538a50",
   "metadata": {},
   "outputs": [],
   "source": [
    "# M = cv2.getRotationMatrix2D(center, angle, scale)\n",
    "# rotated_image = cv2.warpAffine(image, M, (width, height))\n",
    "\n",
    "if image is None:\n",
    "    print('Couldnot load image')\n",
    "else:\n",
    "    (h, w) = image.shape[:2]\n",
    "\n",
    "    center = (w//2, h//2)\n",
    "    M = cv2.getRotationMatrix2D(center, 90, 1.0)\n",
    "    rotated = cv2.warpAffine(image, M, (w, h))\n",
    "\n",
    "    cv2.imshow('Rotated Image', rotated)\n",
    "    cv2.imwrite('media/rotated_image.png', rotated)\n",
    "\n",
    "    cv2.waitKey(0)\n",
    "    cv2.destroyAllWindows()"
   ]
  },
  {
   "cell_type": "code",
   "execution_count": 5,
   "id": "77eb3d68-189e-49d6-aa86-5b3d9e001160",
   "metadata": {},
   "outputs": [],
   "source": [
    "if image is not None:\n",
    "    flipped_horizontal = cv2.flip(image, 1)\n",
    "    flipped_vertical = cv2.flip(image, 0)\n",
    "    flipped_both = cv2.flip(image, -1)\n",
    "\n",
    "    cv2.imshow('Flipped horizontal',flipped_horizontal)\n",
    "    cv2.imshow('flipped vertical', flipped_vertical)\n",
    "    cv2.imshow('flipped both', flipped_both)\n",
    "\n",
    "    cv2.imwrite('media/flipped_horizontal.png',flipped_horizontal)\n",
    "    cv2.imwrite('media/flipped_vertical.png', flipped_vertical)\n",
    "    cv2.imwrite('media/flipped_both.png', flipped_both)\n",
    "\n",
    "    cv2.waitKey(0)\n",
    "    cv2.destroyAllWindows()"
   ]
  },
  {
   "cell_type": "code",
   "execution_count": null,
   "id": "5cff2376-c0aa-4f3c-ac06-14d1fd2987cf",
   "metadata": {},
   "outputs": [],
   "source": []
  }
 ],
 "metadata": {
  "kernelspec": {
   "display_name": "Python (dl-env)",
   "language": "python",
   "name": "dl-env"
  },
  "language_info": {
   "codemirror_mode": {
    "name": "ipython",
    "version": 3
   },
   "file_extension": ".py",
   "mimetype": "text/x-python",
   "name": "python",
   "nbconvert_exporter": "python",
   "pygments_lexer": "ipython3",
   "version": "3.11.13"
  }
 },
 "nbformat": 4,
 "nbformat_minor": 5
}
